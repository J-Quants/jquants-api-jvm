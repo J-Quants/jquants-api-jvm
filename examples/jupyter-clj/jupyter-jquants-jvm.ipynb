{
 "cells": [
  {
   "cell_type": "markdown",
   "id": "427870e2",
   "metadata": {},
   "source": [
    "# Sample Jupyter Notebook in Clojure for JQuants"
   ]
  },
  {
   "cell_type": "markdown",
   "id": "90f8f53a",
   "metadata": {},
   "source": [
    "Start by installing clojupyter. using:\n",
    "\n",
    "```bash\n",
    "# https://cljdoc.org/d/nubank/clojupyter/0.2.2/doc/readme#installation\n",
    "git clone https://github.com/clojupyter/clojupyter    \n",
    "make && make install   \n",
    "```\n",
    "Then you can start the jupyter console as usual:\n",
    "``` bash\n",
    "jupyter-console\n",
    "```"
   ]
  },
  {
   "cell_type": "code",
   "execution_count": null,
   "id": "37bdd5fa",
   "metadata": {},
   "outputs": [],
   "source": [
    "(require '[clojupyter.misc.helper :as helper])\n",
    "; (helper/add-dependencies '[metasoarous/oz \"2.0.0-alpha5\"])\n",
    "(helper/add-dependencies '[metasoarous/oz \"1.5.6\"])\n",
    "(helper/add-dependencies '[net.clojars.hellonico/jquants-api-jvm \"0.2.11\"])"
   ]
  },
  {
   "cell_type": "code",
   "execution_count": 12,
   "id": "224011af",
   "metadata": {},
   "outputs": [
    {
     "data": {
      "text/plain": [
       "nil"
      ]
     },
     "execution_count": 12,
     "metadata": {},
     "output_type": "execute_result"
    }
   ],
   "source": [
    "(require '[hellonico.jquants-api :as api])\n",
    "(require '[oz.notebook.clojupyter :as oz])"
   ]
  },
  {
   "cell_type": "markdown",
   "id": "586c1f06",
   "metadata": {},
   "source": [
    "# Draw a simple graph with oz in Jupyter"
   ]
  },
  {
   "cell_type": "code",
   "execution_count": 13,
   "id": "d5f5739e",
   "metadata": {},
   "outputs": [],
   "source": [
    "(defn datapt [[s n]] {:Index s, :Value n})\n",
    "(defn graph  [vs]    {:data {:values vs}, \n",
    "                      :mark :line\n",
    "                      :encoding {:x {:field :Index}\n",
    "                                 :y {:field :Value}}})\n",
    "(def graph-it (comp graph (partial map datapt) (partial apply map vector)));"
   ]
  },
  {
   "cell_type": "code",
   "execution_count": 14,
   "id": "26b37518",
   "metadata": {},
   "outputs": [
    {
     "data": {
      "text/plain": [
       "#'user/raw-data"
      ]
     },
     "execution_count": 14,
     "metadata": {},
     "output_type": "execute_result"
    }
   ],
   "source": [
    "(defn raw-data [] (map #(+ % (rand-int 25)) (range)))"
   ]
  },
  {
   "cell_type": "code",
   "execution_count": 15,
   "id": "a96ed494",
   "metadata": {},
   "outputs": [
    {
     "data": {
      "text/html": [
       "\n",
       "<div>\n",
       "  <div id='uuid-9500c982-6871-4234-be7e-3572fb50a334'></div>\n",
       "  <script>\n",
       "  requirejs.config({\n",
       "    baseUrl: 'https://cdn.jsdelivr.net/npm/',\n",
       "    paths: {\n",
       "      'vega-embed':  'vega-embed@3?noext',\n",
       "      'vega-lib': 'vega-lib?noext',\n",
       "      'vega-lite': 'vega-lite@2?noext',\n",
       "      'vega': 'vega@3?noext'\n",
       "    }\n",
       "  });\n",
       "  require(['vega-embed'], function(vegaEmbed) {\n",
       "    let spec = {\"data\":{\"values\":[{\"Index\":0,\"Value\":6},{\"Index\":1,\"Value\":23},{\"Index\":2,\"Value\":14},{\"Index\":3,\"Value\":16},{\"Index\":4,\"Value\":6},{\"Index\":5,\"Value\":23},{\"Index\":6,\"Value\":9},{\"Index\":7,\"Value\":30},{\"Index\":8,\"Value\":19},{\"Index\":9,\"Value\":10},{\"Index\":10,\"Value\":32},{\"Index\":11,\"Value\":35},{\"Index\":12,\"Value\":16},{\"Index\":13,\"Value\":34},{\"Index\":14,\"Value\":38},{\"Index\":15,\"Value\":37},{\"Index\":16,\"Value\":19},{\"Index\":17,\"Value\":37},{\"Index\":18,\"Value\":25},{\"Index\":19,\"Value\":37},{\"Index\":20,\"Value\":22},{\"Index\":21,\"Value\":29},{\"Index\":22,\"Value\":38},{\"Index\":23,\"Value\":40},{\"Index\":24,\"Value\":40},{\"Index\":25,\"Value\":38},{\"Index\":26,\"Value\":38},{\"Index\":27,\"Value\":45},{\"Index\":28,\"Value\":52},{\"Index\":29,\"Value\":39},{\"Index\":30,\"Value\":49},{\"Index\":31,\"Value\":53},{\"Index\":32,\"Value\":54},{\"Index\":33,\"Value\":54},{\"Index\":34,\"Value\":39},{\"Index\":35,\"Value\":45},{\"Index\":36,\"Value\":36},{\"Index\":37,\"Value\":50},{\"Index\":38,\"Value\":59},{\"Index\":39,\"Value\":59},{\"Index\":40,\"Value\":55},{\"Index\":41,\"Value\":41},{\"Index\":42,\"Value\":49},{\"Index\":43,\"Value\":59},{\"Index\":44,\"Value\":62},{\"Index\":45,\"Value\":52},{\"Index\":46,\"Value\":60},{\"Index\":47,\"Value\":54},{\"Index\":48,\"Value\":69},{\"Index\":49,\"Value\":57},{\"Index\":50,\"Value\":63},{\"Index\":51,\"Value\":56},{\"Index\":52,\"Value\":53},{\"Index\":53,\"Value\":70},{\"Index\":54,\"Value\":70},{\"Index\":55,\"Value\":64},{\"Index\":56,\"Value\":60},{\"Index\":57,\"Value\":60},{\"Index\":58,\"Value\":70},{\"Index\":59,\"Value\":77},{\"Index\":60,\"Value\":82},{\"Index\":61,\"Value\":69},{\"Index\":62,\"Value\":78},{\"Index\":63,\"Value\":76},{\"Index\":64,\"Value\":81},{\"Index\":65,\"Value\":73},{\"Index\":66,\"Value\":85},{\"Index\":67,\"Value\":80},{\"Index\":68,\"Value\":75},{\"Index\":69,\"Value\":76},{\"Index\":70,\"Value\":70},{\"Index\":71,\"Value\":81},{\"Index\":72,\"Value\":94},{\"Index\":73,\"Value\":88},{\"Index\":74,\"Value\":94},{\"Index\":75,\"Value\":99},{\"Index\":76,\"Value\":94},{\"Index\":77,\"Value\":86},{\"Index\":78,\"Value\":99},{\"Index\":79,\"Value\":85},{\"Index\":80,\"Value\":95},{\"Index\":81,\"Value\":99},{\"Index\":82,\"Value\":105},{\"Index\":83,\"Value\":83},{\"Index\":84,\"Value\":98},{\"Index\":85,\"Value\":109},{\"Index\":86,\"Value\":91},{\"Index\":87,\"Value\":102},{\"Index\":88,\"Value\":93},{\"Index\":89,\"Value\":113},{\"Index\":90,\"Value\":95},{\"Index\":91,\"Value\":93},{\"Index\":92,\"Value\":112},{\"Index\":93,\"Value\":98},{\"Index\":94,\"Value\":110},{\"Index\":95,\"Value\":110},{\"Index\":96,\"Value\":104},{\"Index\":97,\"Value\":118},{\"Index\":98,\"Value\":105},{\"Index\":99,\"Value\":121},{\"Index\":100,\"Value\":106},{\"Index\":101,\"Value\":107},{\"Index\":102,\"Value\":103},{\"Index\":103,\"Value\":117},{\"Index\":104,\"Value\":116},{\"Index\":105,\"Value\":109},{\"Index\":106,\"Value\":124},{\"Index\":107,\"Value\":110},{\"Index\":108,\"Value\":109},{\"Index\":109,\"Value\":129},{\"Index\":110,\"Value\":126},{\"Index\":111,\"Value\":114},{\"Index\":112,\"Value\":130},{\"Index\":113,\"Value\":118},{\"Index\":114,\"Value\":138},{\"Index\":115,\"Value\":134},{\"Index\":116,\"Value\":119},{\"Index\":117,\"Value\":133},{\"Index\":118,\"Value\":131},{\"Index\":119,\"Value\":123},{\"Index\":120,\"Value\":129},{\"Index\":121,\"Value\":136},{\"Index\":122,\"Value\":124},{\"Index\":123,\"Value\":124},{\"Index\":124,\"Value\":143},{\"Index\":125,\"Value\":147},{\"Index\":126,\"Value\":144},{\"Index\":127,\"Value\":149},{\"Index\":128,\"Value\":141},{\"Index\":129,\"Value\":149},{\"Index\":130,\"Value\":130},{\"Index\":131,\"Value\":141},{\"Index\":132,\"Value\":133},{\"Index\":133,\"Value\":143},{\"Index\":134,\"Value\":152},{\"Index\":135,\"Value\":139},{\"Index\":136,\"Value\":137},{\"Index\":137,\"Value\":160},{\"Index\":138,\"Value\":141},{\"Index\":139,\"Value\":144},{\"Index\":140,\"Value\":164},{\"Index\":141,\"Value\":152},{\"Index\":142,\"Value\":153},{\"Index\":143,\"Value\":164},{\"Index\":144,\"Value\":162},{\"Index\":145,\"Value\":163},{\"Index\":146,\"Value\":149},{\"Index\":147,\"Value\":166},{\"Index\":148,\"Value\":169},{\"Index\":149,\"Value\":161}]},\"mark\":\"line\",\"encoding\":{\"x\":{\"field\":\"Index\"},\"y\":{\"field\":\"Value\"}}};\n",
       "    vegaEmbed('#uuid-9500c982-6871-4234-be7e-3572fb50a334', spec, {defaultStyle:true}).catch(console.warn);\n",
       "    }, function(err) {\n",
       "    console.log('Failed to load');\n",
       "  });\n",
       "  </script>\n",
       "</div>\n",
       "  "
      ]
     },
     "execution_count": 15,
     "metadata": {},
     "output_type": "execute_result"
    }
   ],
   "source": [
    "(->> [(range) (take 150 (raw-data))]\n",
    "     graph-it\n",
    "     oz/view!)"
   ]
  },
  {
   "cell_type": "markdown",
   "id": "e225c4a5",
   "metadata": {},
   "source": [
    "# Get the quotes from jquants and draw them using oz"
   ]
  },
  {
   "cell_type": "code",
   "execution_count": 25,
   "id": "6ec6bd53",
   "metadata": {},
   "outputs": [
    {
     "name": "stdout",
     "output_type": "stream",
     "text": [
      "{\"daily_quotes\": [{\"Code\": \"24130\", \"Close\": 4512.0, \"Date\": \"20220301\", \"AdjustmentHigh\": 4534.0, \"Volume\": 4800600.0, \"TurnoverValue\": 21391696600.0, \"AdjustmentClose\": 4512.0, \"AdjustmentLow\": 4270.0, \"Low\": 4270.0, \"High\": 4534.0, \"Open\": 4315.0, \"AdjustmentOpen\": 4315.0, \"AdjustmentFactor\": 1.0, \"AdjustmentVolume\": 4800600.0}, {\"Code\": \"24130\", \"Close\": 4419.0, \"Date\": \"20220302\", \"AdjustmentHigh\": 4588.0, \"Volume\": 4432200.0, \"TurnoverValue\": 19702595700.0, \"AdjustmentClose\": 4419.0, \"AdjustmentLow\": 4373.0, \"Low\": 4373.0, \"High\": 4588.0, \"Open\": 4455.0, \"AdjustmentOpen\": 4455.0, \"AdjustmentFactor\": 1.0, \"AdjustmentVolume\": 4432200.0}, {\"Code\": \"24130\", \"Close\": 4549.0, \"Date\": \"20220303\", \"AdjustmentHigh\": 4666.0, \"Volume\": 5004700.0, \"TurnoverValue\": 22920157700.0, \"AdjustmentClose\": 4549.0, \"AdjustmentLow\": 4510.0, \"Low\": 4510.0, \"High\": 4666.0, \"Open\": 4595.0, \"AdjustmentOpen\": 4595.0, \"AdjustmentFactor\": 1.0, \"AdjustmentVolume\": 5004700.0}, {\"Code\": \"24130\", \"Close\": 4362.0, \"Date\": \"20220304\", \"AdjustmentHigh\": 4483.0, \"Volume\": 4883800.0, \"TurnoverValue\": 21260310200.0, \"AdjustmentClose\": 4362.0, \"AdjustmentLow\": 4252.0, \"Low\": 4252.0, \"High\": 4483.0, \"Open\": 4479.0, \"AdjustmentOpen\": 4479.0, \"AdjustmentFactor\": 1.0, \"AdjustmentVolume\": 4883800.0}, {\"Code\": \"24130\", \"Close\": 4218.0, \"Date\": \"20220307\", \"AdjustmentHigh\": 4314.0, \"Volume\": 2809200.0, \"TurnoverValue\": 11874019200.0, \"AdjustmentClose\": 4218.0, \"AdjustmentLow\": 4165.0, \"Low\": 4165.0, \"High\": 4314.0, \"Open\": 4251.0, \"AdjustmentOpen\": 4251.0, \"AdjustmentFactor\": 1.0, \"AdjustmentVolume\": 2809200.0}, {\"Code\": \"24130\", \"Close\": 4246.0, \"Date\": \"20220308\", \"AdjustmentHigh\": 4384.0, \"Volume\": 3313200.0, \"TurnoverValue\": 14173570200.0, \"AdjustmentClose\": 4246.0, \"AdjustmentLow\": 4134.0, \"Low\": 4134.0, \"High\": 4384.0, \"Open\": 4134.0, \"AdjustmentOpen\": 4134.0, \"AdjustmentFactor\": 1.0, \"AdjustmentVolume\": 3313200.0}, {\"Code\": \"24130\", \"Close\": 4230.0, \"Date\": \"20220309\", \"AdjustmentHigh\": 4356.0, \"Volume\": 3019600.0, \"TurnoverValue\": 12927345100.0, \"AdjustmentClose\": 4230.0, \"AdjustmentLow\": 4230.0, \"Low\": 4230.0, \"High\": 4356.0, \"Open\": 4304.0, \"AdjustmentOpen\": 4304.0, \"AdjustmentFactor\": 1.0, \"AdjustmentVolume\": 3019600.0}, {\"Code\": \"24130\", \"Close\": 4321.0, \"Date\": \"20220310\", \"AdjustmentHigh\": 4427.0, \"Volume\": 3416400.0, \"TurnoverValue\": 14802848600.0, \"AdjustmentClose\": 4321.0, \"AdjustmentLow\": 4265.0, \"Low\": 4265.0, \"High\": 4427.0, \"Open\": 4421.0, \"AdjustmentOpen\": 4421.0, \"AdjustmentFactor\": 1.0, \"AdjustmentVolume\": 3416400.0}, {\"Code\": \"24130\", \"Close\": 4066.0, \"Date\": \"20220311\", \"AdjustmentHigh\": 4289.0, \"Volume\": 4114700.0, \"TurnoverValue\": 17037458400.0, \"AdjustmentClose\": 4066.0, \"AdjustmentLow\": 4023.0, \"Low\": 4023.0, \"High\": 4289.0, \"Open\": 4285.0, \"AdjustmentOpen\": 4285.0, \"AdjustmentFactor\": 1.0, \"AdjustmentVolume\": 4114700.0}, {\"Code\": \"24130\", \"Close\": 4005.0, \"Date\": \"20220314\", \"AdjustmentHigh\": 4100.0, \"Volume\": 3023900.0, \"TurnoverValue\": 12106942400.0, \"AdjustmentClose\": 4005.0, \"AdjustmentLow\": 3953.0, \"Low\": 3953.0, \"High\": 4100.0, \"Open\": 4000.0, \"AdjustmentOpen\": 4000.0, \"AdjustmentFactor\": 1.0, \"AdjustmentVolume\": 3023900.0}, {\"Code\": \"24130\", \"Close\": 3997.0, \"Date\": \"20220315\", \"AdjustmentHigh\": 4061.0, \"Volume\": 2992800.0, \"TurnoverValue\": 11934806900.0, \"AdjustmentClose\": 3997.0, \"AdjustmentLow\": 3862.0, \"Low\": 3862.0, \"High\": 4061.0, \"Open\": 3935.0, \"AdjustmentOpen\": 3935.0, \"AdjustmentFactor\": 1.0, \"AdjustmentVolume\": 2992800.0}, {\"Code\": \"24130\", \"Close\": 4145.0, \"Date\": \"20220316\", \"AdjustmentHigh\": 4148.0, \"Volume\": 3248500.0, \"TurnoverValue\": 13317243900.0, \"AdjustmentClose\": 4145.0, \"AdjustmentLow\": 4017.0, \"Low\": 4017.0, \"High\": 4148.0, \"Open\": 4100.0, \"AdjustmentOpen\": 4100.0, \"AdjustmentFactor\": 1.0, \"AdjustmentVolume\": 3248500.0}, {\"Code\": \"24130\", \"Close\": 4214.0, \"Date\": \"20220317\", \"AdjustmentHigh\": 4289.0, \"Volume\": 3631600.0, \"TurnoverValue\": 15351705400.0, \"AdjustmentClose\": 4214.0, \"AdjustmentLow\": 4158.0, \"Low\": 4158.0, \"High\": 4289.0, \"Open\": 4285.0, \"AdjustmentOpen\": 4285.0, \"AdjustmentFactor\": 1.0, \"AdjustmentVolume\": 3631600.0}, {\"Code\": \"24130\", \"Close\": 4251.0, \"Date\": \"20220318\", \"AdjustmentHigh\": 4284.0, \"Volume\": 3871700.0, \"TurnoverValue\": 16473922700.0, \"AdjustmentClose\": 4251.0, \"AdjustmentLow\": 4206.0, \"Low\": 4206.0, \"High\": 4284.0, \"Open\": 4284.0, \"AdjustmentOpen\": 4284.0, \"AdjustmentFactor\": 1.0, \"AdjustmentVolume\": 3871700.0}, {\"Code\": \"24130\", \"Close\": 4187.0, \"Date\": \"20220322\", \"AdjustmentHigh\": 4300.0, \"Volume\": 3165100.0, \"TurnoverValue\": 13354456700.0, \"AdjustmentClose\": 4187.0, \"AdjustmentLow\": 4163.0, \"Low\": 4163.0, \"High\": 4300.0, \"Open\": 4288.0, \"AdjustmentOpen\": 4288.0, \"AdjustmentFactor\": 1.0, \"AdjustmentVolume\": 3165100.0}, {\"Code\": \"24130\", \"Close\": 4403.0, \"Date\": \"20220323\", \"AdjustmentHigh\": 4425.0, \"Volume\": 4415000.0, \"TurnoverValue\": 19119948400.0, \"AdjustmentClose\": 4403.0, \"AdjustmentLow\": 4193.0, \"Low\": 4193.0, \"High\": 4425.0, \"Open\": 4248.0, \"AdjustmentOpen\": 4248.0, \"AdjustmentFactor\": 1.0, \"AdjustmentVolume\": 4415000.0}, {\"Code\": \"24130\", \"Close\": 4447.0, \"Date\": \"20220324\", \"AdjustmentHigh\": 4452.0, \"Volume\": 2828400.0, \"TurnoverValue\": 12364303100.0, \"AdjustmentClose\": 4447.0, \"AdjustmentLow\": 4263.0, \"Low\": 4263.0, \"High\": 4452.0, \"Open\": 4316.0, \"AdjustmentOpen\": 4316.0, \"AdjustmentFactor\": 1.0, \"AdjustmentVolume\": 2828400.0}, {\"Code\": \"24130\", \"Close\": 4435.0, \"Date\": \"20220325\", \"AdjustmentHigh\": 4470.0, \"Volume\": 2437300.0, \"TurnoverValue\": 10749613100.0, \"AdjustmentClose\": 4435.0, \"AdjustmentLow\": 4338.0, \"Low\": 4338.0, \"High\": 4470.0, \"Open\": 4452.0, \"AdjustmentOpen\": 4452.0, \"AdjustmentFactor\": 1.0, \"AdjustmentVolume\": 2437300.0}, {\"Code\": \"24130\", \"Close\": 4262.0, \"Date\": \"20220328\", \"AdjustmentHigh\": 4384.0, \"Volume\": 2479400.0, \"TurnoverValue\": 10633741200.0, \"AdjustmentClose\": 4262.0, \"AdjustmentLow\": 4255.0, \"Low\": 4255.0, \"High\": 4384.0, \"Open\": 4358.0, \"AdjustmentOpen\": 4358.0, \"AdjustmentFactor\": 1.0, \"AdjustmentVolume\": 2479400.0}]}\n"
     ]
    },
    {
     "data": {
      "text/plain": [
       "#'user/_data"
      ]
     },
     "execution_count": 25,
     "metadata": {},
     "output_type": "execute_result"
    }
   ],
   "source": [
    "; (def data (:daily_quotes (api/daily-fuzzy {:CompanyNameEnglish \"M3\"})))\n",
    "(def data (:daily_quotes (api/daily {:code 2413 :from 20220301 :to 20220328})))\n",
    "\n",
    "(defn average [coll]\n",
    "  (/ (reduce + coll)\n",
    "     (count coll)))\n",
    "\n",
    "(defn ma [period coll]\n",
    "  (lazy-cat (repeat (dec period) nil)\n",
    "            (map average (partition period 1  coll))))\n",
    "(def ma-5 (partial ma 5))\n",
    "\n",
    "(def _data (map #(assoc %1 :ma %2) data (ma-5 (map :High data))))\n"
   ]
  },
  {
   "cell_type": "code",
   "execution_count": 26,
   "id": "f33aeeb6",
   "metadata": {},
   "outputs": [
    {
     "data": {
      "text/plain": [
       "#'user/viz"
      ]
     },
     "execution_count": 26,
     "metadata": {},
     "output_type": "execute_result"
    }
   ],
   "source": [
    "(def data-plot\n",
    "  {:data {:values _data}\n",
    "   :encoding {:x {:field \"Date\" :type \"ordinal\"}\n",
    "              :y {:field \"ma\" :type \"quantitative\"}\n",
    "              :color {:field \"Code\" :type \"nominal\"}}\n",
    "   :mark \"line\"}\n",
    "  )\n",
    "\n",
    "(def viz\n",
    "  [:div\n",
    "   [:h1 \"5 days Moving average\"]\n",
    "   [:p \"Entity code 24130\"]\n",
    "   [:p \"from 20220301 to 20220328\"]\n",
    "   [:vega-lite data-plot]\n",
    "   ;[:h2 \"If ever, oh ever a viz there was, the vizard of oz is one because, because, because...\"]\n",
    "   [:p (str (java.util.Date.))]\n",
    "   ])"
   ]
  },
  {
   "cell_type": "code",
   "execution_count": 24,
   "id": "20c8b00f",
   "metadata": {},
   "outputs": [
    {
     "data": {
      "text/html": [
       "<div><h1>5 days Moving average</h1><p>Entity code 24130</p><p>from 20220301 to 20220328</p>\n",
       "<div>\n",
       "  <div id='uuid-f9f080ab-98f1-41ab-b861-29ebfe3c573a'></div>\n",
       "  <script>\n",
       "  requirejs.config({\n",
       "    baseUrl: 'https://cdn.jsdelivr.net/npm/',\n",
       "    paths: {\n",
       "      'vega-embed':  'vega-embed@3?noext',\n",
       "      'vega-lib': 'vega-lib?noext',\n",
       "      'vega-lite': 'vega-lite@2?noext',\n",
       "      'vega': 'vega@3?noext'\n",
       "    }\n",
       "  });\n",
       "  require(['vega-embed'], function(vegaEmbed) {\n",
       "    let spec = {\"data\":{\"values\":[{\"AdjustmentVolume\":4800600.0,\"ma\":null,\"TurnoverValue\":2.13916966E10,\"AdjustmentOpen\":4315.0,\"Low\":4270.0,\"AdjustmentClose\":4512.0,\"Volume\":4800600.0,\"High\":4534.0,\"Date\":\"20220301\",\"AdjustmentHigh\":4534.0,\"Code\":\"24130\",\"Close\":4512.0,\"AdjustmentFactor\":1.0,\"AdjustmentLow\":4270.0,\"Open\":4315.0},{\"AdjustmentVolume\":4432200.0,\"ma\":null,\"TurnoverValue\":1.97025957E10,\"AdjustmentOpen\":4455.0,\"Low\":4373.0,\"AdjustmentClose\":4419.0,\"Volume\":4432200.0,\"High\":4588.0,\"Date\":\"20220302\",\"AdjustmentHigh\":4588.0,\"Code\":\"24130\",\"Close\":4419.0,\"AdjustmentFactor\":1.0,\"AdjustmentLow\":4373.0,\"Open\":4455.0},{\"AdjustmentVolume\":5004700.0,\"ma\":null,\"TurnoverValue\":2.29201577E10,\"AdjustmentOpen\":4595.0,\"Low\":4510.0,\"AdjustmentClose\":4549.0,\"Volume\":5004700.0,\"High\":4666.0,\"Date\":\"20220303\",\"AdjustmentHigh\":4666.0,\"Code\":\"24130\",\"Close\":4549.0,\"AdjustmentFactor\":1.0,\"AdjustmentLow\":4510.0,\"Open\":4595.0},{\"AdjustmentVolume\":4883800.0,\"ma\":null,\"TurnoverValue\":2.12603102E10,\"AdjustmentOpen\":4479.0,\"Low\":4252.0,\"AdjustmentClose\":4362.0,\"Volume\":4883800.0,\"High\":4483.0,\"Date\":\"20220304\",\"AdjustmentHigh\":4483.0,\"Code\":\"24130\",\"Close\":4362.0,\"AdjustmentFactor\":1.0,\"AdjustmentLow\":4252.0,\"Open\":4479.0},{\"AdjustmentVolume\":2809200.0,\"ma\":4517.0,\"TurnoverValue\":1.18740192E10,\"AdjustmentOpen\":4251.0,\"Low\":4165.0,\"AdjustmentClose\":4218.0,\"Volume\":2809200.0,\"High\":4314.0,\"Date\":\"20220307\",\"AdjustmentHigh\":4314.0,\"Code\":\"24130\",\"Close\":4218.0,\"AdjustmentFactor\":1.0,\"AdjustmentLow\":4165.0,\"Open\":4251.0},{\"AdjustmentVolume\":3313200.0,\"ma\":4487.0,\"TurnoverValue\":1.41735702E10,\"AdjustmentOpen\":4134.0,\"Low\":4134.0,\"AdjustmentClose\":4246.0,\"Volume\":3313200.0,\"High\":4384.0,\"Date\":\"20220308\",\"AdjustmentHigh\":4384.0,\"Code\":\"24130\",\"Close\":4246.0,\"AdjustmentFactor\":1.0,\"AdjustmentLow\":4134.0,\"Open\":4134.0},{\"AdjustmentVolume\":3019600.0,\"ma\":4440.6,\"TurnoverValue\":1.29273451E10,\"AdjustmentOpen\":4304.0,\"Low\":4230.0,\"AdjustmentClose\":4230.0,\"Volume\":3019600.0,\"High\":4356.0,\"Date\":\"20220309\",\"AdjustmentHigh\":4356.0,\"Code\":\"24130\",\"Close\":4230.0,\"AdjustmentFactor\":1.0,\"AdjustmentLow\":4230.0,\"Open\":4304.0},{\"AdjustmentVolume\":3416400.0,\"ma\":4392.8,\"TurnoverValue\":1.48028486E10,\"AdjustmentOpen\":4421.0,\"Low\":4265.0,\"AdjustmentClose\":4321.0,\"Volume\":3416400.0,\"High\":4427.0,\"Date\":\"20220310\",\"AdjustmentHigh\":4427.0,\"Code\":\"24130\",\"Close\":4321.0,\"AdjustmentFactor\":1.0,\"AdjustmentLow\":4265.0,\"Open\":4421.0},{\"AdjustmentVolume\":4114700.0,\"ma\":4354.0,\"TurnoverValue\":1.70374584E10,\"AdjustmentOpen\":4285.0,\"Low\":4023.0,\"AdjustmentClose\":4066.0,\"Volume\":4114700.0,\"High\":4289.0,\"Date\":\"20220311\",\"AdjustmentHigh\":4289.0,\"Code\":\"24130\",\"Close\":4066.0,\"AdjustmentFactor\":1.0,\"AdjustmentLow\":4023.0,\"Open\":4285.0},{\"AdjustmentVolume\":3023900.0,\"ma\":4311.2,\"TurnoverValue\":1.21069424E10,\"AdjustmentOpen\":4000.0,\"Low\":3953.0,\"AdjustmentClose\":4005.0,\"Volume\":3023900.0,\"High\":4100.0,\"Date\":\"20220314\",\"AdjustmentHigh\":4100.0,\"Code\":\"24130\",\"Close\":4005.0,\"AdjustmentFactor\":1.0,\"AdjustmentLow\":3953.0,\"Open\":4000.0},{\"AdjustmentVolume\":2992800.0,\"ma\":4246.6,\"TurnoverValue\":1.19348069E10,\"AdjustmentOpen\":3935.0,\"Low\":3862.0,\"AdjustmentClose\":3997.0,\"Volume\":2992800.0,\"High\":4061.0,\"Date\":\"20220315\",\"AdjustmentHigh\":4061.0,\"Code\":\"24130\",\"Close\":3997.0,\"AdjustmentFactor\":1.0,\"AdjustmentLow\":3862.0,\"Open\":3935.0},{\"AdjustmentVolume\":3248500.0,\"ma\":4205.0,\"TurnoverValue\":1.33172439E10,\"AdjustmentOpen\":4100.0,\"Low\":4017.0,\"AdjustmentClose\":4145.0,\"Volume\":3248500.0,\"High\":4148.0,\"Date\":\"20220316\",\"AdjustmentHigh\":4148.0,\"Code\":\"24130\",\"Close\":4145.0,\"AdjustmentFactor\":1.0,\"AdjustmentLow\":4017.0,\"Open\":4100.0},{\"AdjustmentVolume\":3631600.0,\"ma\":4177.4,\"TurnoverValue\":1.53517054E10,\"AdjustmentOpen\":4285.0,\"Low\":4158.0,\"AdjustmentClose\":4214.0,\"Volume\":3631600.0,\"High\":4289.0,\"Date\":\"20220317\",\"AdjustmentHigh\":4289.0,\"Code\":\"24130\",\"Close\":4214.0,\"AdjustmentFactor\":1.0,\"AdjustmentLow\":4158.0,\"Open\":4285.0},{\"AdjustmentVolume\":3871700.0,\"ma\":4176.4,\"TurnoverValue\":1.64739227E10,\"AdjustmentOpen\":4284.0,\"Low\":4206.0,\"AdjustmentClose\":4251.0,\"Volume\":3871700.0,\"High\":4284.0,\"Date\":\"20220318\",\"AdjustmentHigh\":4284.0,\"Code\":\"24130\",\"Close\":4251.0,\"AdjustmentFactor\":1.0,\"AdjustmentLow\":4206.0,\"Open\":4284.0},{\"AdjustmentVolume\":3165100.0,\"ma\":4216.4,\"TurnoverValue\":1.33544567E10,\"AdjustmentOpen\":4288.0,\"Low\":4163.0,\"AdjustmentClose\":4187.0,\"Volume\":3165100.0,\"High\":4300.0,\"Date\":\"20220322\",\"AdjustmentHigh\":4300.0,\"Code\":\"24130\",\"Close\":4187.0,\"AdjustmentFactor\":1.0,\"AdjustmentLow\":4163.0,\"Open\":4288.0},{\"AdjustmentVolume\":4415000.0,\"ma\":4289.2,\"TurnoverValue\":1.91199484E10,\"AdjustmentOpen\":4248.0,\"Low\":4193.0,\"AdjustmentClose\":4403.0,\"Volume\":4415000.0,\"High\":4425.0,\"Date\":\"20220323\",\"AdjustmentHigh\":4425.0,\"Code\":\"24130\",\"Close\":4403.0,\"AdjustmentFactor\":1.0,\"AdjustmentLow\":4193.0,\"Open\":4248.0},{\"AdjustmentVolume\":2828400.0,\"ma\":4350.0,\"TurnoverValue\":1.23643031E10,\"AdjustmentOpen\":4316.0,\"Low\":4263.0,\"AdjustmentClose\":4447.0,\"Volume\":2828400.0,\"High\":4452.0,\"Date\":\"20220324\",\"AdjustmentHigh\":4452.0,\"Code\":\"24130\",\"Close\":4447.0,\"AdjustmentFactor\":1.0,\"AdjustmentLow\":4263.0,\"Open\":4316.0},{\"AdjustmentVolume\":2437300.0,\"ma\":4386.2,\"TurnoverValue\":1.07496131E10,\"AdjustmentOpen\":4452.0,\"Low\":4338.0,\"AdjustmentClose\":4435.0,\"Volume\":2437300.0,\"High\":4470.0,\"Date\":\"20220325\",\"AdjustmentHigh\":4470.0,\"Code\":\"24130\",\"Close\":4435.0,\"AdjustmentFactor\":1.0,\"AdjustmentLow\":4338.0,\"Open\":4452.0},{\"AdjustmentVolume\":2479400.0,\"ma\":4406.2,\"TurnoverValue\":1.06337412E10,\"AdjustmentOpen\":4358.0,\"Low\":4255.0,\"AdjustmentClose\":4262.0,\"Volume\":2479400.0,\"High\":4384.0,\"Date\":\"20220328\",\"AdjustmentHigh\":4384.0,\"Code\":\"24130\",\"Close\":4262.0,\"AdjustmentFactor\":1.0,\"AdjustmentLow\":4255.0,\"Open\":4358.0}]},\"encoding\":{\"x\":{\"field\":\"Date\",\"type\":\"ordinal\"},\"y\":{\"field\":\"ma\",\"type\":\"quantitative\"},\"color\":{\"field\":\"Code\",\"type\":\"nominal\"}},\"mark\":\"line\"};\n",
       "    vegaEmbed('#uuid-f9f080ab-98f1-41ab-b861-29ebfe3c573a', spec, {defaultStyle:true}).catch(console.warn);\n",
       "    }, function(err) {\n",
       "    console.log('Failed to load');\n",
       "  });\n",
       "  </script>\n",
       "</div>\n",
       "  <p>Wed Oct 05 11:21:55 JST 2022</p></div>"
      ]
     },
     "execution_count": 24,
     "metadata": {},
     "output_type": "execute_result"
    }
   ],
   "source": [
    "(oz/view! viz)"
   ]
  },
  {
   "cell_type": "code",
   "execution_count": null,
   "id": "d7afd1bd",
   "metadata": {},
   "outputs": [],
   "source": []
  },
  {
   "cell_type": "code",
   "execution_count": null,
   "id": "b6b9ca82",
   "metadata": {},
   "outputs": [],
   "source": []
  },
  {
   "cell_type": "code",
   "execution_count": null,
   "id": "73824647",
   "metadata": {},
   "outputs": [],
   "source": []
  }
 ],
 "metadata": {
  "kernelspec": {
   "display_name": "Clojure (clojupyter-0.3.7-snapshotv0.2.2-86-ge968)",
   "language": "clojure",
   "name": "clojupyter-0.3.7-snapshotv0.2.2-86-ge968"
  },
  "language_info": {
   "file_extension": ".clj",
   "mimetype": "text/x-clojure",
   "name": "clojure",
   "version": "1.11.1"
  }
 },
 "nbformat": 4,
 "nbformat_minor": 5
}
